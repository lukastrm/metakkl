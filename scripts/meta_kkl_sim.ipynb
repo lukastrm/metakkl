{
 "cells": [
  {
   "cell_type": "code",
   "execution_count": null,
   "metadata": {
    "collapsed": true
   },
   "outputs": [],
   "source": [
    "from datetime import datetime\n",
    "import os\n",
    "\n",
    "import numpy as np\n",
    "\n",
    "from metakkl import utils\n",
    "from metakkl.train import TrainingDirection\n",
    "\n",
    "from scripts.utils import defaults, paths\n",
    "import duffing_train\n",
    "import duffing_meta_train\n",
    "import duffing_meta_adapt\n",
    "import duffing_sim_error\n",
    "import duffing_sim_error_profile\n",
    "import duffing_sim_param_error\n",
    "import duffing_sim_state\n",
    "\n",
    "dir_path_models = os.path.join(paths.DIR_PATH_MODELS)"
   ]
  },
  {
   "cell_type": "markdown",
   "source": [
    "# Initial System State Variation"
   ],
   "metadata": {
    "collapsed": false
   }
  },
  {
   "cell_type": "code",
   "execution_count": null,
   "outputs": [],
   "source": [
    "# Training parameters\n",
    "num_epochs = 15\n",
    "batch_size = 32\n",
    "lr = 1e-3\n",
    "\n",
    "# Meta learning parameters\n",
    "meta_batch_size = 16\n",
    "meta_lr = 3e-5\n",
    "num_meta_iter = 1000\n",
    "num_task_iter = 20\n",
    "\n",
    "# Dataset parameters\n",
    "param_system_init_state = utils.sample_lhs(limits=np.array([[-1.0, 1.0], [-1.0, 1.0]]), num=50)\n",
    "\n",
    "param_x_init_error_profile_d_in = np.linspace(-1, 1, 50)\n",
    "param_x_init_error_profile_d_out = np.linspace(-2, 2, 50)\n",
    "param_x_init_error_profile_in = (\n",
    "    np.stack(np.meshgrid(param_x_init_error_profile_d_in, param_x_init_error_profile_d_in), axis=2).reshape((-1, 2)))\n",
    "\n",
    "defaults.set_validation_seeds()\n",
    "param_system_init_state_val_in = np.random.uniform(-1.0, 1.0, (50, 2))\n",
    "param_system_init_state_val_out = np.concatenate((\n",
    "    np.stack((np.random.uniform(1.0, 2.0, 30), np.random.uniform(-2.0, 2.0, 30)), axis=1),\n",
    "    np.stack((np.random.uniform(-2.0, -1.0, 30), np.random.uniform(-2.0, 2.0, 30)), axis=1),\n",
    "    np.stack((np.random.uniform(-1.0, 1.0, 10), np.random.uniform(1.0, 2.0, 10)), axis=1),\n",
    "    np.stack((np.random.uniform(-1.0, 1.0, 10), np.random.uniform(-2.0, -1.0, 10)), axis=1),\n",
    "))\n",
    "\n",
    "system_noise_val = (0.0, 0.1)\n",
    "system_output_noise_val = (0.0, 0.1)\n",
    "\n",
    "# Model file paths\n",
    "model_path_mixed_sequential_x_init = os.path.join(dir_path_models, 'mixed_sequential_x_init.pt')\n",
    "model_path_mixed_sequential_pde_x_init = os.path.join(dir_path_models, 'mixed_sequential_pde_x_init.pt')\n",
    "model_path_mixed_parallel_x_init = os.path.join(dir_path_models, 'mixed_parallel_x_init.pt')\n",
    "model_path_meta_x_init = os.path.join(dir_path_models, 'meta_x_init.pt')\n",
    "param_model_path_meta_adapted_x_init = os.path.join(dir_path_models, 'meta_adapted_x0={x0}_x1={x1}_x_init.pt')\n",
    "param_model_path_meta_adapted_x_init_ext_sampling = (\n",
    "    os.path.join(dir_path_models, 'meta_adapted_x0={x0}_x1={x1}_x_init_ext_sampling.pt'))\n",
    "param_model_path_meta_adapted_x_init_pre_sampling = (\n",
    "    os.path.join(dir_path_models, 'meta_adapted_x0={x0}_x1={x1}_x_init_pre_sampling.pt'))\n",
    "param_model_path_meta_adapted_x_init_ext_pre_sampling = (\n",
    "    os.path.join(dir_path_models, 'meta_adapted_x0={x0}_x1={x1}_x_init_ext_pre_sampling.pt'))\n",
    "param_model_path_meta_adapted_x_init_noise = (\n",
    "    os.path.join(dir_path_models, 'meta_adapted_x0={x0}_x1={x1}_x_init_noise.pt'))\n",
    "\n",
    "# Log paths\n",
    "log_path_mixed_sequential_x_init = os.path.join(paths.DIR_PATH_LOGS, 'mixed_sequential_x_init_{time}')\n",
    "log_path_mixed_sequential_pde_x_init = (\n",
    "    os.path.join(paths.DIR_PATH_LOGS, 'mixed_sequential_x_init_pde_{time}'))\n",
    "log_path_mixed_parallel_x_init = os.path.join(paths.DIR_PATH_LOGS, 'mixed_parallel_x_init_{time}')\n",
    "log_path_meta_x_init = os.path.join(paths.DIR_PATH_LOGS, 'meta_x_init_{time}')"
   ],
   "metadata": {
    "collapsed": false,
    "pycharm": {
     "name": "#%%\n"
    }
   }
  },
  {
   "cell_type": "markdown",
   "source": [
    "## Training"
   ],
   "metadata": {
    "collapsed": false
   }
  },
  {
   "cell_type": "code",
   "execution_count": null,
   "outputs": [],
   "source": [
    "# Sequential mixed-task learning\n",
    "\n",
    "defaults.set_training_seeds()\n",
    "\n",
    "duffing_train.run(\n",
    "    param_lmbda=(defaults.DUFFING_SYSTEM_LMBDA,),\n",
    "    param_system_init_state=param_system_init_state,\n",
    "    system_noise=None,\n",
    "    system_output_noise=None,\n",
    "    direction=TrainingDirection.BIDIRECTIONAL,\n",
    "    merged=True,\n",
    "    num_epochs=num_epochs,\n",
    "    batch_size=batch_size,\n",
    "    lr=lr,\n",
    "    pde_loss=False,\n",
    "    model_path=None,\n",
    "    save_path=model_path_mixed_sequential_x_init,\n",
    "    log_dir_path=log_path_mixed_sequential_x_init.format(time=datetime.now().strftime(\"%b%d_%H-%M-%S\"))\n",
    ")"
   ],
   "metadata": {
    "collapsed": false,
    "pycharm": {
     "name": "#%%\n"
    }
   }
  },
  {
   "cell_type": "code",
   "execution_count": null,
   "outputs": [],
   "source": [
    "# Sequential mixed-task learning with PDE constraint\n",
    "\n",
    "defaults.set_training_seeds()\n",
    "\n",
    "duffing_train.run(\n",
    "    param_lmbda=(defaults.DUFFING_SYSTEM_LMBDA,),\n",
    "    param_system_init_state=param_system_init_state,\n",
    "    system_noise=None,\n",
    "    system_output_noise=None,\n",
    "    direction=TrainingDirection.BIDIRECTIONAL,\n",
    "    merged=True,\n",
    "    num_epochs=num_epochs,\n",
    "    batch_size=batch_size,\n",
    "    lr=lr,\n",
    "    pde_loss=True,\n",
    "    model_path=None,\n",
    "    save_path=model_path_mixed_sequential_pde_x_init,\n",
    "    log_dir_path=log_path_mixed_sequential_pde_x_init.format(time=datetime.now().strftime(\"%b%d_%H-%M-%S\"))\n",
    ")"
   ],
   "metadata": {
    "collapsed": false,
    "pycharm": {
     "name": "#%%\n"
    }
   }
  },
  {
   "cell_type": "code",
   "execution_count": null,
   "outputs": [],
   "source": [
    "# Parallel mixed-task learning\n",
    "\n",
    "defaults.set_training_seeds()\n",
    "\n",
    "duffing_train.run(\n",
    "    param_lmbda=(defaults.DUFFING_SYSTEM_LMBDA,),\n",
    "    param_system_init_state=param_system_init_state,\n",
    "    system_noise=None,\n",
    "    system_output_noise=None,\n",
    "    direction=TrainingDirection.BIDIRECTIONAL,\n",
    "    merged=False,\n",
    "    num_epochs=num_epochs,\n",
    "    batch_size=batch_size,\n",
    "    lr=lr,\n",
    "    pde_loss=False,\n",
    "    model_path=None,\n",
    "    save_path=model_path_mixed_parallel_x_init,\n",
    "    log_dir_path=log_path_mixed_parallel_x_init.format(time=datetime.now().strftime(\"%b%d_%H-%M-%S\"))\n",
    ")"
   ],
   "metadata": {
    "collapsed": false
   }
  },
  {
   "cell_type": "code",
   "execution_count": null,
   "outputs": [],
   "source": [
    "# Meta-learning for system output adaptation\n",
    "\n",
    "defaults.set_training_seeds()\n",
    "\n",
    "duffing_meta_train.run(\n",
    "    param_lmbda=(defaults.DUFFING_SYSTEM_LMBDA,),\n",
    "    param_system_init_state=param_system_init_state,\n",
    "    system_noise=None,\n",
    "    system_output_noise=None,\n",
    "    direction=TrainingDirection.UNIDIRECTIONAL_INVERSE,\n",
    "    merged=False,\n",
    "    task_output_loss=True,\n",
    "    meta_batch_size=meta_batch_size,\n",
    "    meta_lr=meta_lr,\n",
    "    num_meta_iter=num_meta_iter,\n",
    "    task_batch_size=batch_size,\n",
    "    random_batch_offset=True,\n",
    "    shuffle_batch=False,\n",
    "    task_lr=None,\n",
    "    num_task_iter=num_task_iter,\n",
    "    model_path=model_path_mixed_parallel_x_init,\n",
    "    save_path=model_path_meta_x_init,\n",
    "    log_dir_path=log_path_meta_x_init.format(time=datetime.now().strftime(\"%b%d_%H-%M-%S\"))\n",
    ")"
   ],
   "metadata": {
    "collapsed": false,
    "pycharm": {
     "name": "#%%\n"
    }
   }
  },
  {
   "cell_type": "markdown",
   "source": [
    "## Error averaged over multiple initial system states"
   ],
   "metadata": {
    "collapsed": false
   }
  },
  {
   "cell_type": "code",
   "execution_count": null,
   "outputs": [],
   "source": [
    "# System output adaptation\n",
    "# Initial system state inside of training region\n",
    "# Minimum sampling period\n",
    "\n",
    "defaults.set_validation_seeds()\n",
    "\n",
    "duffing_meta_adapt.run(\n",
    "    param_lmbda=(defaults.DUFFING_SYSTEM_LMBDA,),\n",
    "    param_system_init_state=param_system_init_state_val_in,\n",
    "    system_noise=None,\n",
    "    system_output_noise=None,\n",
    "    observer_init_state=np.empty(0),\n",
    "    direction=TrainingDirection.UNIDIRECTIONAL_INVERSE,\n",
    "    merged=False,\n",
    "    output_loss=True,\n",
    "    batch_size=batch_size,\n",
    "    shuffle=False,\n",
    "    lr=None,\n",
    "    num_optim_steps=num_task_iter,\n",
    "    model_path=model_path_meta_x_init,\n",
    "    param_save_path=param_model_path_meta_adapted_x_init\n",
    ")"
   ],
   "metadata": {
    "collapsed": false
   }
  },
  {
   "cell_type": "code",
   "execution_count": null,
   "outputs": [],
   "source": [
    "# Simulate error\n",
    "# Initial system state inside of training region\n",
    "\n",
    "defaults.set_validation_seeds()\n",
    "\n",
    "duffing_sim_error.simulate(\n",
    "    lmbda=defaults.DUFFING_SYSTEM_LMBDA,\n",
    "    param_system_init_state=param_system_init_state_val_in,\n",
    "    system_noise=None,\n",
    "    system_output_noise=None,\n",
    "    observer_init_state=None,\n",
    "    model_paths=(\n",
    "        model_path_mixed_sequential_x_init,\n",
    "        model_path_mixed_sequential_pde_x_init,\n",
    "        model_path_mixed_parallel_x_init,\n",
    "    ),\n",
    "    param_model_paths=(\n",
    "        param_model_path_meta_adapted_x_init,\n",
    "    ),\n",
    "    data_path=paths.DATA_PATH_ERROR_X_INIT_IN\n",
    ")"
   ],
   "metadata": {
    "collapsed": false
   }
  },
  {
   "cell_type": "code",
   "execution_count": null,
   "outputs": [],
   "source": [
    "# System output adaptation\n",
    "# Initial system state outside of training region\n",
    "# Minimum sampling period\n",
    "\n",
    "defaults.set_validation_seeds()\n",
    "\n",
    "duffing_meta_adapt.run(\n",
    "    param_lmbda=(defaults.DUFFING_SYSTEM_LMBDA,),\n",
    "    param_system_init_state=param_system_init_state_val_out,\n",
    "    system_noise=None,\n",
    "    system_output_noise=None,\n",
    "    observer_init_state=np.empty(0),\n",
    "    direction=TrainingDirection.UNIDIRECTIONAL_INVERSE,\n",
    "    merged=False,\n",
    "    output_loss=True,\n",
    "    batch_size=batch_size,\n",
    "    shuffle=False,\n",
    "    lr=None,\n",
    "    num_optim_steps=num_task_iter,\n",
    "    model_path=model_path_meta_x_init,\n",
    "    param_save_path=param_model_path_meta_adapted_x_init\n",
    ")"
   ],
   "metadata": {
    "collapsed": false
   }
  },
  {
   "cell_type": "code",
   "execution_count": null,
   "outputs": [],
   "source": [
    "# Simulate error\n",
    "# Initial system state outside of training region\n",
    "\n",
    "defaults.set_validation_seeds()\n",
    "\n",
    "duffing_sim_error.simulate(\n",
    "    lmbda=defaults.DUFFING_SYSTEM_LMBDA,\n",
    "    param_system_init_state=param_system_init_state_val_out,\n",
    "    system_noise=None,\n",
    "    system_output_noise=None,\n",
    "    observer_init_state=None,\n",
    "    model_paths=(\n",
    "        model_path_mixed_sequential_x_init,\n",
    "        model_path_mixed_sequential_pde_x_init,\n",
    "        model_path_mixed_parallel_x_init,\n",
    "    ),\n",
    "    param_model_paths=(\n",
    "        param_model_path_meta_adapted_x_init,\n",
    "    ),\n",
    "    data_path=paths.DATA_PATH_ERROR_X_INIT_OUT\n",
    ")"
   ],
   "metadata": {
    "collapsed": false
   }
  },
  {
   "cell_type": "markdown",
   "source": [
    "## Error profile over initial system state"
   ],
   "metadata": {
    "collapsed": false
   }
  },
  {
   "cell_type": "code",
   "execution_count": null,
   "outputs": [],
   "source": [
    "defaults.set_validation_seeds()\n",
    "\n",
    "duffing_meta_adapt.run(\n",
    "    param_lmbda=(defaults.DUFFING_SYSTEM_LMBDA,),\n",
    "    param_system_init_state=param_x_init_error_profile_in,\n",
    "    system_noise=None,\n",
    "    system_output_noise=None,\n",
    "    observer_init_state=np.empty(0),\n",
    "    direction=TrainingDirection.UNIDIRECTIONAL_INVERSE,\n",
    "    merged=False,\n",
    "    output_loss=True,\n",
    "    batch_size=batch_size,\n",
    "    shuffle=True,\n",
    "    lr=None,\n",
    "    num_optim_steps=num_task_iter,\n",
    "    model_path=model_path_meta_x_init,\n",
    "    param_save_path=param_model_path_meta_adapted_x_init\n",
    ")"
   ],
   "metadata": {
    "collapsed": false
   }
  },
  {
   "cell_type": "code",
   "execution_count": null,
   "outputs": [],
   "source": [
    "defaults.set_validation_seeds()\n",
    "\n",
    "duffing_sim_error_profile.simulate(\n",
    "    lmbda=defaults.DUFFING_SYSTEM_LMBDA,\n",
    "    param_system_init_state_0=param_x_init_error_profile_d_in,\n",
    "    param_system_init_state_1=param_x_init_error_profile_d_in,\n",
    "    system_noise=None,\n",
    "    system_output_noise=None,\n",
    "    observer_init_state=None,\n",
    "    param_model_path=param_model_path_meta_adapted_x_init,\n",
    "    data_path=paths.DATA_PATH_ERROR_PROFILE_META_ADAPTED_X_INIT_IN\n",
    ")"
   ],
   "metadata": {
    "collapsed": false
   }
  },
  {
   "cell_type": "markdown",
   "source": [
    "## Error averaged over multiple initial system states with different sampling periods"
   ],
   "metadata": {
    "collapsed": false
   }
  },
  {
   "cell_type": "code",
   "execution_count": null,
   "outputs": [],
   "source": [
    "# System output adaptation\n",
    "# Initial system state inside of training region\n",
    "# Extended sampling period\n",
    "\n",
    "defaults.set_validation_seeds()\n",
    "\n",
    "duffing_meta_adapt.run(\n",
    "    param_lmbda=(defaults.DUFFING_SYSTEM_LMBDA,),\n",
    "    param_system_init_state=param_system_init_state_val_in,\n",
    "    system_noise=None,\n",
    "    system_output_noise=None,\n",
    "    observer_init_state=np.empty(0),\n",
    "    direction=TrainingDirection.UNIDIRECTIONAL_INVERSE,\n",
    "    merged=False,\n",
    "    output_loss=True,\n",
    "    batch_size=batch_size,\n",
    "    shuffle=True,\n",
    "    lr=None,\n",
    "    num_optim_steps=num_task_iter,\n",
    "    model_path=model_path_meta_x_init,\n",
    "    param_save_path=param_model_path_meta_adapted_x_init_ext_sampling\n",
    ")"
   ],
   "metadata": {
    "collapsed": false
   }
  },
  {
   "cell_type": "code",
   "execution_count": null,
   "outputs": [],
   "source": [
    "# System output adaptation\n",
    "# Initial system state inside of training region\n",
    "# Delayed sampling period\n",
    "\n",
    "defaults.set_validation_seeds()\n",
    "\n",
    "duffing_meta_adapt.run(\n",
    "    param_lmbda=(defaults.DUFFING_SYSTEM_LMBDA,),\n",
    "    param_system_init_state=param_system_init_state_val_in,\n",
    "    system_noise=None,\n",
    "    system_output_noise=None,\n",
    "    observer_init_state=None,\n",
    "    direction=TrainingDirection.UNIDIRECTIONAL_INVERSE,\n",
    "    merged=False,\n",
    "    output_loss=True,\n",
    "    batch_size=batch_size,\n",
    "    shuffle=False,\n",
    "    lr=None,\n",
    "    num_optim_steps=num_task_iter,\n",
    "    model_path=model_path_meta_x_init,\n",
    "    param_save_path=param_model_path_meta_adapted_x_init_pre_sampling\n",
    ")"
   ],
   "metadata": {
    "collapsed": false
   }
  },
  {
   "cell_type": "code",
   "execution_count": null,
   "outputs": [],
   "source": [
    "# System output adaptation\n",
    "# Initial system state inside of training region\n",
    "# Delayed and extended sampling period\n",
    "\n",
    "defaults.set_validation_seeds()\n",
    "\n",
    "duffing_meta_adapt.run(\n",
    "    param_lmbda=(defaults.DUFFING_SYSTEM_LMBDA,),\n",
    "    param_system_init_state=param_system_init_state_val_in,\n",
    "    system_noise=None,\n",
    "    system_output_noise=None,\n",
    "    observer_init_state=None,\n",
    "    direction=TrainingDirection.UNIDIRECTIONAL_INVERSE,\n",
    "    merged=False,\n",
    "    output_loss=True,\n",
    "    batch_size=batch_size,\n",
    "    shuffle=True,\n",
    "    lr=None,\n",
    "    num_optim_steps=num_task_iter,\n",
    "    model_path=model_path_meta_x_init,\n",
    "    param_save_path=param_model_path_meta_adapted_x_init_ext_pre_sampling\n",
    ")"
   ],
   "metadata": {
    "collapsed": false
   }
  },
  {
   "cell_type": "code",
   "execution_count": null,
   "outputs": [],
   "source": [
    "defaults.set_validation_seeds()\n",
    "\n",
    "duffing_sim_error.simulate(\n",
    "    lmbda=defaults.DUFFING_SYSTEM_LMBDA,\n",
    "    param_system_init_state=param_system_init_state_val_in,\n",
    "    system_noise=None,\n",
    "    system_output_noise=None,\n",
    "    observer_init_state=None,\n",
    "    model_paths=(),\n",
    "    param_model_paths=(\n",
    "        param_model_path_meta_adapted_x_init,\n",
    "        param_model_path_meta_adapted_x_init_ext_sampling,\n",
    "        param_model_path_meta_adapted_x_init_pre_sampling,\n",
    "        param_model_path_meta_adapted_x_init_ext_pre_sampling,\n",
    "    ),\n",
    "    data_path=paths.DATA_PATH_ERROR_META_ADAPTED_X_INIT_SAMPLING\n",
    ")"
   ],
   "metadata": {
    "collapsed": false
   }
  },
  {
   "cell_type": "markdown",
   "source": [
    "## Error for specific initial system state"
   ],
   "metadata": {
    "collapsed": false
   }
  },
  {
   "cell_type": "code",
   "execution_count": null,
   "outputs": [],
   "source": [
    "defaults.set_validation_seeds()\n",
    "\n",
    "duffing_meta_adapt.run(\n",
    "    param_lmbda=(defaults.DUFFING_SYSTEM_LMBDA,),\n",
    "    param_system_init_state=(defaults.DUFFING_SYSTEM_INIT_STATE,),\n",
    "    system_noise=None,\n",
    "    system_output_noise=None,\n",
    "    observer_init_state=np.empty(0),\n",
    "    direction=TrainingDirection.UNIDIRECTIONAL_INVERSE,\n",
    "    merged=False,\n",
    "    output_loss=True,\n",
    "    batch_size=batch_size,\n",
    "    shuffle=True,\n",
    "    lr=None,\n",
    "    num_optim_steps=num_task_iter,\n",
    "    model_path=model_path_meta_x_init,\n",
    "    param_save_path=param_model_path_meta_adapted_x_init\n",
    ")\n",
    "\n",
    "defaults.set_validation_seeds()\n",
    "\n",
    "duffing_sim_state.simulate(\n",
    "    lmbda=defaults.DUFFING_SYSTEM_LMBDA,\n",
    "    system_init_state=defaults.DUFFING_SYSTEM_INIT_STATE,\n",
    "    system_noise=None,\n",
    "    system_output_noise=None,\n",
    "    observer_init_state=None,\n",
    "    model_paths=(\n",
    "        param_model_path_meta_adapted_x_init.format(x0=defaults.DUFFING_SYSTEM_INIT_STATE[0],\n",
    "                                                    x1=defaults.DUFFING_SYSTEM_INIT_STATE[1]),\n",
    "    ),\n",
    "    data_path=paths.DATA_PATH_STATE_META_ADAPTED_X_INIT\n",
    ")"
   ],
   "metadata": {
    "collapsed": false
   }
  },
  {
   "cell_type": "code",
   "execution_count": null,
   "outputs": [],
   "source": [
    "defaults.set_validation_seeds()\n",
    "\n",
    "duffing_meta_adapt.run(\n",
    "    param_lmbda=(defaults.DUFFING_SYSTEM_LMBDA,),\n",
    "    param_system_init_state=(defaults.DUFFING_SYSTEM_INIT_STATE,),\n",
    "    system_noise=system_noise_val,\n",
    "    system_output_noise=system_output_noise_val,\n",
    "    observer_init_state=np.empty(0),\n",
    "    direction=TrainingDirection.UNIDIRECTIONAL_INVERSE,\n",
    "    merged=False,\n",
    "    output_loss=True,\n",
    "    batch_size=batch_size,\n",
    "    shuffle=True,\n",
    "    lr=None,\n",
    "    num_optim_steps=num_task_iter,\n",
    "    model_path=model_path_meta_x_init,\n",
    "    param_save_path=param_model_path_meta_adapted_x_init_noise\n",
    ")\n",
    "\n",
    "defaults.set_validation_seeds()\n",
    "\n",
    "duffing_sim_state.simulate(\n",
    "    lmbda=defaults.DUFFING_SYSTEM_LMBDA,\n",
    "    system_init_state=defaults.DUFFING_SYSTEM_INIT_STATE,\n",
    "    system_noise=system_noise_val,\n",
    "    system_output_noise=system_output_noise_val,\n",
    "    observer_init_state=None,\n",
    "    model_paths=(\n",
    "        param_model_path_meta_adapted_x_init.format(x0=defaults.DUFFING_SYSTEM_INIT_STATE[0],\n",
    "                                                    x1=defaults.DUFFING_SYSTEM_INIT_STATE[1]),\n",
    "    ),\n",
    "    data_path=paths.DATA_PATH_STATE_META_ADAPTED_X_INIT_NOISE\n",
    ")"
   ],
   "metadata": {
    "collapsed": false
   }
  },
  {
   "cell_type": "markdown",
   "source": [
    "# System Parameter Variation"
   ],
   "metadata": {
    "collapsed": false
   }
  },
  {
   "cell_type": "code",
   "execution_count": null,
   "outputs": [],
   "source": [
    "# Training parameters\n",
    "num_epochs = 20\n",
    "batch_size = 32\n",
    "lr = 1e-3\n",
    "\n",
    "# Meta learning parameters\n",
    "meta_batch_size = 2\n",
    "meta_task_batch_size = 4\n",
    "meta_lr = 3e-4\n",
    "num_meta_iter = 1000\n",
    "num_task_iter = 100\n",
    "\n",
    "# Dataset parameters\n",
    "param_lmbda = np.linspace(1.0, 5.0, 5)\n",
    "\n",
    "defaults.set_validation_seeds()\n",
    "param_lmbda_val = np.sort(np.random.uniform(1.0, 5.0, 200))\n",
    "\n",
    "system_noise_val = (0.0, 0.1)\n",
    "system_output_noise_val = (0.0, 0.1)\n",
    "\n",
    "# Model file paths\n",
    "model_path_mixed_sequential_lmbda = os.path.join(dir_path_models, 'mixed_sequential_lmbda.pt')\n",
    "model_path_mixed_sequential_pde_lmbda = os.path.join(dir_path_models, 'mixed_sequential_pde_lmbda.pt')\n",
    "model_path_mixed_parallel_lmbda = os.path.join(dir_path_models, 'mixed_parallel_lmbda.pt')\n",
    "model_path_mixed_parallel_forward_lmbda = os.path.join(dir_path_models, 'mixed_parallel_forward_lmbda.pt')\n",
    "model_path_meta_lmbda = os.path.join(dir_path_models, 'meta_lmbda.pt')\n",
    "param_model_path_meta_adapted_lmbda = os.path.join(dir_path_models, 'meta_adapted_lmbda={lmbda}.pt')\n",
    "param_model_path_meta_adapted_lmbda_sequential = (\n",
    "    os.path.join(dir_path_models, 'meta_adapted_lmbda={lmbda}_sequential.pt'))\n",
    "param_model_path_meta_adapted_lmbda_pre = os.path.join(dir_path_models, 'meta_adapted_lmbda={lmbda}_pre.pt')\n",
    "param_model_path_meta_adapted_lmbda_pre_sequential = (\n",
    "    os.path.join(dir_path_models, 'meta_adapted_lmbda={lmbda}_pre_sequential.pt'))\n",
    "\n",
    "# Log paths\n",
    "log_path_mixed_sequential_lmbda = os.path.join(paths.DIR_PATH_LOGS, 'mixed_sequential_lmbda_{time}')\n",
    "log_path_mixed_sequential_pde_lmbda = (\n",
    "    os.path.join(paths.DIR_PATH_LOGS, 'mixed_sequential_lmbda_pde_{time}'))\n",
    "log_path_mixed_parallel_lmbda = os.path.join(paths.DIR_PATH_LOGS, 'mixed_parallel_lmbda_{time}')\n",
    "log_path_meta_lmbda = os.path.join(paths.DIR_PATH_LOGS, 'meta_lmbda_{time}')"
   ],
   "metadata": {
    "collapsed": false
   }
  },
  {
   "cell_type": "code",
   "execution_count": null,
   "outputs": [],
   "source": [
    "# Sequential mixed-task learning\n",
    "\n",
    "defaults.set_training_seeds()\n",
    "\n",
    "duffing_train.run(\n",
    "    param_lmbda=param_lmbda,\n",
    "    param_system_init_state=(\n",
    "        defaults.DUFFING_SYSTEM_INIT_STATE,\n",
    "    ),\n",
    "    system_noise=None,\n",
    "    system_output_noise=None,\n",
    "    direction=TrainingDirection.BIDIRECTIONAL,\n",
    "    merged=True,\n",
    "    num_epochs=num_epochs,\n",
    "    batch_size=batch_size,\n",
    "    lr=lr,\n",
    "    pde_loss=False,\n",
    "    model_path=None,\n",
    "    save_path=model_path_mixed_sequential_lmbda,\n",
    "    log_dir_path=log_path_mixed_sequential_lmbda.format(time=datetime.now().strftime(\"%b%d_%H-%M-%S\"))\n",
    ")"
   ],
   "metadata": {
    "collapsed": false
   }
  },
  {
   "cell_type": "code",
   "execution_count": null,
   "outputs": [],
   "source": [
    "# Sequential mixed-task learning with PDE constraint\n",
    "\n",
    "defaults.set_training_seeds()\n",
    "\n",
    "duffing_train.run(\n",
    "    param_lmbda=param_lmbda,\n",
    "    param_system_init_state=(defaults.DUFFING_SYSTEM_INIT_STATE,),\n",
    "    system_noise=None,\n",
    "    system_output_noise=None,\n",
    "    direction=TrainingDirection.BIDIRECTIONAL,\n",
    "    merged=True,\n",
    "    num_epochs=num_epochs,\n",
    "    batch_size=batch_size,\n",
    "    lr=lr,\n",
    "    pde_loss=True,\n",
    "    model_path=None,\n",
    "    save_path=model_path_mixed_sequential_pde_lmbda,\n",
    "    log_dir_path=log_path_mixed_sequential_pde_lmbda.format(time=datetime.now().strftime(\"%b%d_%H-%M-%S\"))\n",
    ")"
   ],
   "metadata": {
    "collapsed": false
   }
  },
  {
   "cell_type": "code",
   "execution_count": null,
   "outputs": [],
   "source": [
    "# Parallel mixed-task learning\n",
    "\n",
    "defaults.set_training_seeds()\n",
    "\n",
    "duffing_train.run(\n",
    "    param_lmbda=param_lmbda,\n",
    "    param_system_init_state=(defaults.DUFFING_SYSTEM_INIT_STATE,),\n",
    "    system_noise=None,\n",
    "    system_output_noise=None,\n",
    "    direction=TrainingDirection.BIDIRECTIONAL,\n",
    "    merged=False,\n",
    "    num_epochs=num_epochs,\n",
    "    batch_size=batch_size,\n",
    "    lr=lr,\n",
    "    pde_loss=False,\n",
    "    model_path=None,\n",
    "    save_path=model_path_mixed_parallel_lmbda,\n",
    "    log_dir_path=log_path_mixed_parallel_lmbda.format(time=datetime.now().strftime(\"%b%d_%H-%M-%S\"))\n",
    ")"
   ],
   "metadata": {
    "collapsed": false
   }
  },
  {
   "cell_type": "code",
   "execution_count": null,
   "outputs": [],
   "source": [
    "# Meta-learning for system output adaptation\n",
    "\n",
    "defaults.set_training_seeds()\n",
    "\n",
    "duffing_meta_train.run(\n",
    "    param_lmbda=param_lmbda,\n",
    "    param_system_init_state=(\n",
    "        defaults.DUFFING_SYSTEM_INIT_STATE,\n",
    "    ),\n",
    "    system_noise=None,\n",
    "    system_output_noise=None,\n",
    "    direction=TrainingDirection.UNIDIRECTIONAL_INVERSE,\n",
    "    merged=False,\n",
    "    task_output_loss=True,\n",
    "    meta_batch_size=meta_batch_size,\n",
    "    meta_lr=meta_lr,\n",
    "    num_meta_iter=num_meta_iter,\n",
    "    task_batch_size=meta_task_batch_size,\n",
    "    random_batch_offset=True,\n",
    "    shuffle_batch=False,\n",
    "    task_lr=None,\n",
    "    num_task_iter=num_task_iter,\n",
    "    model_path=model_path_mixed_parallel_lmbda,\n",
    "    save_path=model_path_meta_lmbda,\n",
    "    log_dir_path=log_path_meta_lmbda.format(time=datetime.now().strftime(\"%b%d_%H-%M-%S\"))\n",
    ")"
   ],
   "metadata": {
    "collapsed": false
   }
  },
  {
   "cell_type": "markdown",
   "source": [
    "## Error over parameter range"
   ],
   "metadata": {
    "collapsed": false
   }
  },
  {
   "cell_type": "code",
   "execution_count": null,
   "outputs": [],
   "source": [
    "# System output adaptation\n",
    "\n",
    "defaults.set_validation_seeds()\n",
    "\n",
    "duffing_meta_adapt.run(\n",
    "    param_lmbda=param_lmbda_val,\n",
    "    param_system_init_state=(\n",
    "        defaults.DUFFING_SYSTEM_INIT_STATE,\n",
    "    ),\n",
    "    system_noise=None,\n",
    "    system_output_noise=None,\n",
    "    observer_init_state=np.empty(0),\n",
    "    direction=TrainingDirection.UNIDIRECTIONAL_INVERSE,\n",
    "    merged=False,\n",
    "    output_loss=True,\n",
    "    batch_size=meta_task_batch_size,\n",
    "    shuffle=False,\n",
    "    lr=None,\n",
    "    num_optim_steps=num_task_iter,\n",
    "    model_path=model_path_meta_lmbda,\n",
    "    param_save_path=param_model_path_meta_adapted_lmbda\n",
    ")"
   ],
   "metadata": {
    "collapsed": false
   }
  },
  {
   "cell_type": "code",
   "execution_count": null,
   "outputs": [],
   "source": [
    "defaults.set_validation_seeds()\n",
    "\n",
    "duffing_sim_param_error.simulate(\n",
    "    param_lmbda=param_lmbda_val,\n",
    "    system_init_state=defaults.DUFFING_SYSTEM_INIT_STATE,\n",
    "    system_noise=None,\n",
    "    system_output_noise=None,\n",
    "    observer_init_state=None,\n",
    "    model_paths=(\n",
    "        model_path_mixed_sequential_lmbda,\n",
    "        model_path_mixed_sequential_pde_lmbda,\n",
    "        model_path_mixed_parallel_lmbda,\n",
    "    ),\n",
    "    param_model_paths=(\n",
    "        param_model_path_meta_adapted_lmbda,\n",
    "    ),\n",
    "    sim_error_x=True,\n",
    "    sim_error_z=True,\n",
    "    data_path=paths.DATA_PATH_PARAM_ERROR_LMBDA\n",
    ")"
   ],
   "metadata": {
    "collapsed": false
   }
  },
  {
   "cell_type": "code",
   "execution_count": null,
   "outputs": [],
   "source": [
    "defaults.set_validation_seeds()\n",
    "\n",
    "duffing_sim_param_error.simulate(\n",
    "    param_lmbda=param_lmbda_val,\n",
    "    system_init_state=defaults.DUFFING_SYSTEM_INIT_STATE,\n",
    "    system_noise=None,\n",
    "    system_output_noise=None,\n",
    "    observer_init_state=None,\n",
    "    model_paths=(\n",
    "        model_path_mixed_parallel_lmbda,\n",
    "    ),\n",
    "    param_model_paths=(\n",
    "        param_model_path_meta_adapted_lmbda,\n",
    "    ),\n",
    "    sim_error_x=True,\n",
    "    sim_error_z=True,\n",
    "    data_path=paths.DATA_PATH_PARAM_ERROR_LMBDA_PARALLEL\n",
    ")"
   ],
   "metadata": {
    "collapsed": false
   }
  }
 ],
 "metadata": {
  "kernelspec": {
   "display_name": "Python 3",
   "language": "python",
   "name": "python3"
  },
  "language_info": {
   "codemirror_mode": {
    "name": "ipython",
    "version": 2
   },
   "file_extension": ".py",
   "mimetype": "text/x-python",
   "name": "python",
   "nbconvert_exporter": "python",
   "pygments_lexer": "ipython2",
   "version": "2.7.6"
  }
 },
 "nbformat": 4,
 "nbformat_minor": 0
}
