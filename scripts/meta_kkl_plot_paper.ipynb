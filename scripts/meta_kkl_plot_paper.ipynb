{
 "cells": [
  {
   "cell_type": "code",
   "execution_count": null,
   "metadata": {
    "collapsed": true
   },
   "outputs": [],
   "source": [
    "import os\n",
    "\n",
    "import numpy as np\n",
    "\n",
    "from scripts.utils import paths, style\n",
    "import duffing_sim_error\n",
    "import duffing_sim_error_profile\n",
    "import duffing_sim_param_error\n",
    "import duffing_sim_state\n",
    "\n",
    "dir_path_plots = os.path.join(paths.DIR_PATH_PLOTS, 'paper')"
   ]
  },
  {
   "cell_type": "markdown",
   "source": [
    "# Initial System State Variation"
   ],
   "metadata": {
    "collapsed": false
   }
  },
  {
   "cell_type": "markdown",
   "source": [
    "## Error over Time for Multiple Initial System States"
   ],
   "metadata": {
    "collapsed": false
   }
  },
  {
   "cell_type": "code",
   "execution_count": null,
   "outputs": [],
   "source": [
    "# Plot error\n",
    "# Initial system state inside training region\n",
    "\n",
    "plot_path_error_x_init_in = os.path.join(dir_path_plots, 'error_x_init_in.pdf')\n",
    "xlabel = r'Time $t$'\n",
    "ylabel = r'Error $\\bar{e}^*_\\mathcal{T}(t,e^*_x,\\mathcal{T}_{x(0),\\mathrm{val,in}})$'\n",
    "style.set_ieeeconf()\n",
    "\n",
    "duffing_sim_error.plot(\n",
    "    data_path=paths.DATA_PATH_ERROR_X_INIT_IN,\n",
    "    show=True,\n",
    "    save_path=plot_path_error_x_init_in,\n",
    "    figsize=(style.IEEE_TEXT_WIDTH * 0.49, 1.8),\n",
    "    colors=(\n",
    "        style.TU_BERLIN_DARK_GRAY,\n",
    "        style.TU_BERLIN_LIGHT_GRAY,\n",
    "        style.TU_BERLIN_ORANGE,\n",
    "        style.TU_BERLIN_RED\n",
    "    ),\n",
    "    xlabel=xlabel,\n",
    "    ylabel=ylabel\n",
    ")"
   ],
   "metadata": {
    "collapsed": false
   }
  },
  {
   "cell_type": "code",
   "execution_count": null,
   "outputs": [],
   "source": [
    "# Plot error\n",
    "# Initial system state outside of training region\n",
    "\n",
    "plot_path_error_x_init_out = os.path.join(dir_path_plots, 'error_x_init_out.pdf')\n",
    "xlabel = r'Time $t$'\n",
    "ylabel = r'Error $\\bar{e}^*_\\mathcal{T}(t,e^*_x,\\mathcal{T}_{x(0),\\mathrm{val,out}})$'\n",
    "style.set_ieeeconf()\n",
    "\n",
    "duffing_sim_error.plot(\n",
    "    data_path=paths.DATA_PATH_ERROR_X_INIT_OUT,\n",
    "    show=True,\n",
    "    save_path=plot_path_error_x_init_out,\n",
    "    figsize=(style.IEEE_TEXT_WIDTH * 0.49, 1.8),\n",
    "    colors=(\n",
    "        style.TU_BERLIN_DARK_GRAY,\n",
    "        style.TU_BERLIN_LIGHT_GRAY,\n",
    "        style.TU_BERLIN_ORANGE,\n",
    "        style.TU_BERLIN_RED\n",
    "    ),\n",
    "    xlabel=xlabel,\n",
    "    ylabel=ylabel\n",
    ")"
   ],
   "metadata": {
    "collapsed": false
   }
  },
  {
   "cell_type": "markdown",
   "source": [
    "## Error Map over Initial System States"
   ],
   "metadata": {
    "collapsed": false
   }
  },
  {
   "cell_type": "code",
   "execution_count": null,
   "outputs": [],
   "source": [
    "plot_path_error_profile_meta_adapted_x_init = (\n",
    "    os.path.join(dir_path_plots, 'error_profile_meta_adapted_x_init.pdf'))\n",
    "style.set_ieeeconf()\n",
    "\n",
    "duffing_sim_error_profile.plot(\n",
    "    data_path=paths.DATA_PATH_ERROR_PROFILE_META_ADAPTED_X_INIT_IN,\n",
    "    show=True,\n",
    "    save_path=plot_path_error_profile_meta_adapted_x_init,\n",
    "    figsize=(style.IEEE_TEXT_WIDTH * 0.32, 1.8)\n",
    ")"
   ],
   "metadata": {
    "collapsed": false
   }
  },
  {
   "cell_type": "markdown",
   "source": [
    "## Error over Initial System States with Different Sampling Windows"
   ],
   "metadata": {
    "collapsed": false
   }
  },
  {
   "cell_type": "code",
   "execution_count": null,
   "outputs": [],
   "source": [
    "plot_path_error_meta_adapted_x_init_sampling = (\n",
    "    os.path.join(dir_path_plots, 'error_meta_adapted_x_init_sampling.pdf'))\n",
    "xlabel = r'Time $t$'\n",
    "ylabel = r'Error $\\bar{e}^*_\\mathcal{T}(t,e^*_x,\\mathcal{T}_{x(0),\\mathrm{val,in}})$'\n",
    "style.set_ieeeconf()\n",
    "\n",
    "duffing_sim_error.plot(\n",
    "    data_path=paths.DATA_PATH_ERROR_META_ADAPTED_X_INIT_SAMPLING,\n",
    "    show=True,\n",
    "    save_path=plot_path_error_meta_adapted_x_init_sampling,\n",
    "    figsize=(style.IEEE_COLUMN_WIDTH, 1.8),\n",
    "    colors=(\n",
    "        style.TU_BERLIN_LIGHT_GRAY,\n",
    "        style.TU_BERLIN_DARK_GRAY,\n",
    "        style.TU_BERLIN_ORANGE,\n",
    "        style.TU_BERLIN_RED\n",
    "    ),\n",
    "    xlabel=xlabel,\n",
    "    ylabel=ylabel\n",
    ")"
   ],
   "metadata": {
    "collapsed": false
   }
  },
  {
   "cell_type": "markdown",
   "source": [
    "## Error for Specific Initial System State"
   ],
   "metadata": {
    "collapsed": false
   }
  },
  {
   "cell_type": "code",
   "execution_count": null,
   "outputs": [],
   "source": [
    "plot_path_state_x_init = os.path.join(dir_path_plots, 'state_meta_adapted_x_init.pdf')\n",
    "xticks = np.linspace(0, 50, 6)\n",
    "style.set_ieeeconf()\n",
    "\n",
    "duffing_sim_state.plot(\n",
    "    data_path=paths.DATA_PATH_STATE_META_ADAPTED_X_INIT,\n",
    "    show=True,\n",
    "    save_path=plot_path_state_x_init,\n",
    "    figsize=(style.IEEE_TEXT_WIDTH * 0.32, 1.8),\n",
    "    colors=(style.TU_BERLIN_RED,),\n",
    "    xticks=xticks\n",
    ")"
   ],
   "metadata": {
    "collapsed": false
   }
  },
  {
   "cell_type": "code",
   "execution_count": null,
   "outputs": [],
   "source": [
    "plot_path_state_x_init_noise = os.path.join(dir_path_plots, 'state_meta_adapted_x_init_noise.pdf')\n",
    "xticks = np.linspace(0, 50, 6)\n",
    "style.set_ieeeconf()\n",
    "\n",
    "duffing_sim_state.plot(\n",
    "    data_path=paths.DATA_PATH_STATE_META_ADAPTED_X_INIT_NOISE,\n",
    "    show=True,\n",
    "    save_path=plot_path_state_x_init_noise,\n",
    "    figsize=(style.IEEE_TEXT_WIDTH * 0.32, 1.8),\n",
    "    colors=(style.TU_BERLIN_RED,),\n",
    "    xticks=xticks\n",
    ")"
   ],
   "metadata": {
    "collapsed": false
   }
  },
  {
   "cell_type": "markdown",
   "source": [
    "# System Parameter Variation"
   ],
   "metadata": {
    "collapsed": false
   }
  },
  {
   "cell_type": "markdown",
   "source": [
    "## Error over Parameter Range"
   ],
   "metadata": {
    "collapsed": false
   }
  },
  {
   "cell_type": "code",
   "execution_count": null,
   "outputs": [],
   "source": [
    "plot_path_param_error_lmbda = (\n",
    "    os.path.join(dir_path_plots, 'param_error_lmbda.pdf'))\n",
    "style.set_ieeeconf()\n",
    "\n",
    "duffing_sim_param_error.plot_param_error_x(\n",
    "    data_path=paths.DATA_PATH_PARAM_ERROR_LMBDA,\n",
    "    param_lambda_train=None,\n",
    "    show=True,\n",
    "    save_path=plot_path_param_error_lmbda,\n",
    "    figsize=(style.IEEE_COLUMN_WIDTH * 0.48, 1.4),\n",
    "    colors=(\n",
    "        style.TU_BERLIN_DARK_GRAY,\n",
    "        style.TU_BERLIN_LIGHT_GRAY,\n",
    "        style.TU_BERLIN_ORANGE,\n",
    "        style.TU_BERLIN_RED,\n",
    "    )\n",
    ")"
   ],
   "metadata": {
    "collapsed": false
   }
  },
  {
   "cell_type": "code",
   "execution_count": null,
   "outputs": [],
   "source": [
    "plot_path_param_error_lmbda_parallel = (\n",
    "    os.path.join(dir_path_plots, 'param_error_lmbda_parallel.pdf'))\n",
    "style.set_ieeeconf()\n",
    "\n",
    "duffing_sim_param_error.plot_param_error_x(\n",
    "    data_path=paths.DATA_PATH_PARAM_ERROR_LMBDA_PARALLEL,\n",
    "    param_lambda_train=np.linspace(1.0, 5.0, 5),\n",
    "    show=True,\n",
    "    save_path=plot_path_param_error_lmbda_parallel,\n",
    "    figsize=(style.IEEE_COLUMN_WIDTH, 1.4),\n",
    "    colors=(\n",
    "        style.TU_BERLIN_ORANGE,\n",
    "        style.TU_BERLIN_RED\n",
    "    )\n",
    ")"
   ],
   "metadata": {
    "collapsed": false
   }
  },
  {
   "cell_type": "code",
   "execution_count": null,
   "outputs": [],
   "source": [
    "plot_path_param_error_z_lmbda = (\n",
    "    os.path.join(dir_path_plots, 'param_error_z_lmbda.pdf'))\n",
    "style.set_ieeeconf()\n",
    "\n",
    "duffing_sim_param_error.plot_param_error_z(\n",
    "    data_path=paths.DATA_PATH_PARAM_ERROR_LMBDA,\n",
    "    show=True,\n",
    "    save_path=plot_path_param_error_z_lmbda,\n",
    "    figsize=(style.IEEE_COLUMN_WIDTH * 0.48, 1.4),\n",
    "    colors=(\n",
    "        style.TU_BERLIN_DARK_GRAY,\n",
    "        style.TU_BERLIN_LIGHT_GRAY,\n",
    "        style.TU_BERLIN_ORANGE,\n",
    "        style.TU_BERLIN_RED,\n",
    "    )\n",
    ")"
   ],
   "metadata": {
    "collapsed": false
   }
  }
 ],
 "metadata": {
  "kernelspec": {
   "display_name": "Python 3",
   "language": "python",
   "name": "python3"
  },
  "language_info": {
   "codemirror_mode": {
    "name": "ipython",
    "version": 2
   },
   "file_extension": ".py",
   "mimetype": "text/x-python",
   "name": "python",
   "nbconvert_exporter": "python",
   "pygments_lexer": "ipython2",
   "version": "2.7.6"
  }
 },
 "nbformat": 4,
 "nbformat_minor": 0
}
